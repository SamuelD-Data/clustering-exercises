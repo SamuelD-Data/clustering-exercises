{
 "cells": [
  {
   "cell_type": "code",
   "execution_count": 5,
   "metadata": {},
   "outputs": [],
   "source": [
    "from wrangle_zillow import all_2017_zillow_data"
   ]
  },
  {
   "cell_type": "code",
   "execution_count": 20,
   "metadata": {},
   "outputs": [],
   "source": [
    "df = all_2017_zillow_data()"
   ]
  },
  {
   "cell_type": "code",
   "execution_count": 21,
   "metadata": {},
   "outputs": [],
   "source": [
    "zil = df[['bathroomcnt', 'bedroomcnt', 'taxvaluedollarcnt', 'logerror', 'lotsizesquarefeet', 'calculatedfinishedsquarefeet']]"
   ]
  },
  {
   "cell_type": "code",
   "execution_count": 22,
   "metadata": {},
   "outputs": [
    {
     "data": {
      "text/html": [
       "<div>\n",
       "<style scoped>\n",
       "    .dataframe tbody tr th:only-of-type {\n",
       "        vertical-align: middle;\n",
       "    }\n",
       "\n",
       "    .dataframe tbody tr th {\n",
       "        vertical-align: top;\n",
       "    }\n",
       "\n",
       "    .dataframe thead th {\n",
       "        text-align: right;\n",
       "    }\n",
       "</style>\n",
       "<table border=\"1\" class=\"dataframe\">\n",
       "  <thead>\n",
       "    <tr style=\"text-align: right;\">\n",
       "      <th></th>\n",
       "      <th>bathroomcnt</th>\n",
       "      <th>bedroomcnt</th>\n",
       "      <th>taxvaluedollarcnt</th>\n",
       "      <th>logerror</th>\n",
       "      <th>lotsizesquarefeet</th>\n",
       "      <th>calculatedfinishedsquarefeet</th>\n",
       "    </tr>\n",
       "  </thead>\n",
       "  <tbody>\n",
       "    <tr>\n",
       "      <th>0</th>\n",
       "      <td>3.5</td>\n",
       "      <td>4.0</td>\n",
       "      <td>1023282.0</td>\n",
       "      <td>0.025595</td>\n",
       "      <td>4506.0</td>\n",
       "      <td>3100.0</td>\n",
       "    </tr>\n",
       "    <tr>\n",
       "      <th>1</th>\n",
       "      <td>1.0</td>\n",
       "      <td>2.0</td>\n",
       "      <td>464000.0</td>\n",
       "      <td>0.055619</td>\n",
       "      <td>12647.0</td>\n",
       "      <td>1465.0</td>\n",
       "    </tr>\n",
       "    <tr>\n",
       "      <th>2</th>\n",
       "      <td>2.0</td>\n",
       "      <td>3.0</td>\n",
       "      <td>564778.0</td>\n",
       "      <td>0.005383</td>\n",
       "      <td>8432.0</td>\n",
       "      <td>1243.0</td>\n",
       "    </tr>\n",
       "    <tr>\n",
       "      <th>3</th>\n",
       "      <td>3.0</td>\n",
       "      <td>4.0</td>\n",
       "      <td>145143.0</td>\n",
       "      <td>-0.103410</td>\n",
       "      <td>13038.0</td>\n",
       "      <td>2376.0</td>\n",
       "    </tr>\n",
       "    <tr>\n",
       "      <th>4</th>\n",
       "      <td>3.0</td>\n",
       "      <td>3.0</td>\n",
       "      <td>119407.0</td>\n",
       "      <td>0.006940</td>\n",
       "      <td>278581.0</td>\n",
       "      <td>1312.0</td>\n",
       "    </tr>\n",
       "  </tbody>\n",
       "</table>\n",
       "</div>"
      ],
      "text/plain": [
       "   bathroomcnt  bedroomcnt  taxvaluedollarcnt  logerror  lotsizesquarefeet  \\\n",
       "0          3.5         4.0          1023282.0  0.025595             4506.0   \n",
       "1          1.0         2.0           464000.0  0.055619            12647.0   \n",
       "2          2.0         3.0           564778.0  0.005383             8432.0   \n",
       "3          3.0         4.0           145143.0 -0.103410            13038.0   \n",
       "4          3.0         3.0           119407.0  0.006940           278581.0   \n",
       "\n",
       "   calculatedfinishedsquarefeet  \n",
       "0                        3100.0  \n",
       "1                        1465.0  \n",
       "2                        1243.0  \n",
       "3                        2376.0  \n",
       "4                        1312.0  "
      ]
     },
     "execution_count": 22,
     "metadata": {},
     "output_type": "execute_result"
    }
   ],
   "source": [
    "zil.head()"
   ]
  },
  {
   "cell_type": "code",
   "execution_count": null,
   "metadata": {},
   "outputs": [],
   "source": []
  }
 ],
 "metadata": {
  "kernelspec": {
   "display_name": "Python 3",
   "language": "python",
   "name": "python3"
  },
  "language_info": {
   "codemirror_mode": {
    "name": "ipython",
    "version": 3
   },
   "file_extension": ".py",
   "mimetype": "text/x-python",
   "name": "python",
   "nbconvert_exporter": "python",
   "pygments_lexer": "ipython3",
   "version": "3.7.6"
  }
 },
 "nbformat": 4,
 "nbformat_minor": 4
}
